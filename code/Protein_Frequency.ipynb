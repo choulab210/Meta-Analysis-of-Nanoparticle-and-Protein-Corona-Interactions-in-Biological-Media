{
  "nbformat": 4,
  "nbformat_minor": 0,
  "metadata": {
    "colab": {
      "provenance": []
    },
    "kernelspec": {
      "name": "ir",
      "display_name": "R"
    },
    "language_info": {
      "name": "R"
    }
  },
  "cells": [
    {
      "cell_type": "code",
      "source": [
        "############################################################\n",
        "# Proportion Ranking of Proteins by Detection Rate\n",
        "# Author: Alexa Canchola\n",
        "# Advisor: Wei-Chun Chou\n",
        "# Date: Jul 22, 2025\n",
        "############################################################"
      ],
      "metadata": {
        "id": "3AppexyHuw11"
      },
      "execution_count": null,
      "outputs": []
    },
    {
      "cell_type": "code",
      "source": [
        "############################################################\n",
        "# 1.  Load libraries ---------------------------------------\n",
        "############################################################\n",
        "if (!requireNamespace(\"readxl\", quietly = TRUE)) install.packages(\"readxl\")\n",
        "if (!requireNamespace(\"writexl\", quietly = TRUE)) install.packages(\"writexl\")\n",
        "\n",
        "library(readxl)\n",
        "library(dplyr)\n",
        "############################################################\n",
        "# 2.  Read the dataset -------------------------------------\n",
        "############################################################\n",
        "file_path <- \"Dataset-for-protein-freq-analysis-v2.xlsx\"  # adjust if needed\n",
        "df <- read_excel(file_path, sheet = 1)   # 'Sheet2' is sheet 1 in zero-based indexing\n",
        "\n",
        "############################################################\n",
        "# 3.  Identify protein columns -----------------------------\n",
        "#     (assumes first two cols are NP and study IDs)\n",
        "############################################################\n",
        "protein_cols <- colnames(df)[-(1:2)]     # every column after 2\n",
        "\n",
        "############################################################\n",
        "# 4.  Compute detection rate -------------------------------\n",
        "############################################################\n",
        "det_rate <- df %>%\n",
        "  mutate(across(all_of(protein_cols), ~ as.integer(.x > 0))) %>%  # 1 = detected\n",
        "  summarise(across(all_of(protein_cols), mean, na.rm = TRUE)) %>%\n",
        "  tidyr::pivot_longer(everything(),\n",
        "                      names_to = \"protein\",\n",
        "                      values_to = \"detection_rate\") %>%\n",
        "  arrange(desc(detection_rate))\n",
        "\n",
        "############################################################\n",
        "# 5.  Show top 10 proteins ---------------------------------\n",
        "############################################################\n",
        "print(head(det_rate, 20))\n",
        "\n",
        "############################################################\n",
        "# 6.  (Optional) export full table -------------------------\n",
        "############################################################\n",
        "write.csv(det_rate, \"/content/protein_detection_rates.csv\", row.names = FALSE)\n",
        "# In Colab you can download the CSV with:\n",
        "# from google.colab import files\n",
        "# files.download('/content/protein_detection_rates.csv')\n",
        "\n",
        "############################################################\n",
        "# 7.  Visualise the top 20 proteins ------------------------\n",
        "############################################################\n",
        "if (!requireNamespace(\"ggplot2\", quietly = TRUE)) install.packages(\"ggplot2\")\n",
        "if (!requireNamespace(\"scales\",   quietly = TRUE)) install.packages(\"scales\")\n",
        "\n",
        "library(ggplot2)\n",
        "library(scales)\n",
        "\n",
        "top20 <- det_rate %>%\n",
        "  slice_max(detection_rate, n = 20)      # keep 20 highest rates\n",
        "\n",
        "ggplot(top20, aes(x = reorder(protein, detection_rate),\n",
        "                  y = detection_rate)) +\n",
        "  geom_col(fill = \"steelblue\") +\n",
        "  coord_flip() +\n",
        "  scale_y_continuous(labels = percent_format(accuracy = 1)) +\n",
        "  labs(title = \"Top 20 most frequently detected proteins\",\n",
        "       x = \"Protein\",\n",
        "       y = \"Detection proportion\") +\n",
        "  theme_minimal(base_size = 12)"
      ],
      "metadata": {
        "id": "xPAlhF7buugx"
      },
      "execution_count": null,
      "outputs": []
    }
  ]
}