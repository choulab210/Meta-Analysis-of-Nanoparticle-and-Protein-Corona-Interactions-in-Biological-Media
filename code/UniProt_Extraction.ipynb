{
  "cells": [
    {
      "cell_type": "code",
      "execution_count": null,
      "metadata": {
        "colab": {
          "base_uri": "https://localhost:8080/"
        },
        "collapsed": true,
        "id": "Zn0pcpzjWVTY",
        "outputId": "21372a70-43b1-44cc-a76b-d33013777ccf"
      },
      "outputs": [
        {
          "output_type": "stream",
          "name": "stdout",
          "text": [
            "Requirement already satisfied: biopython in /usr/local/lib/python3.11/dist-packages (1.85)\n",
            "Requirement already satisfied: numpy in /usr/local/lib/python3.11/dist-packages (from biopython) (1.26.4)\n"
          ]
        }
      ],
      "source": [
        "# %% ============================================================================\n",
        "## Extraction and Calculation of Protein Properties from Uniprot Database\n",
        "# Author: Alexa Canchola\n",
        "# Advisor: Wei-Chun Chou\n",
        "# Date: April 22, 2025\n",
        "# ==============================================================================\n",
        "\"\"\"\n",
        "This Python script provides a comprehensive workflow for the extraction of molecular weight (MW) and amino acid sequence information from the UniProt Protein Knowledgebase.\n",
        "Additional functionality to calculate protein properties including:\n",
        "    - Isoelectric point (pI)\n",
        "    - Grand Average of Hydropathicity (GRAVY)\n",
        "using the BioPython (v1.85) package\n",
        "\"\"\"\n",
        "# %% ============================================================================\n",
        "# Install Required Libraries\n",
        "# ==============================================================================\n",
        "!pip install biopython"
      ]
    },
    {
      "cell_type": "code",
      "execution_count": null,
      "metadata": {
        "id": "zYiRi2gDOswB"
      },
      "outputs": [],
      "source": [
        "# %% ============================================================================\n",
        "# Import Libraries\n",
        "# ==============================================================================\n",
        "# Standard Libraries for Data Handling\n",
        "import pandas as pd\n",
        "import numpy as np\n",
        "\n",
        "\n",
        "# Libraries for Uniprot Query\n",
        "import requests as r\n",
        "import re\n",
        "from urllib.request import urlopen\n",
        "from ast import AnnAssign\n",
        "import warnings\n",
        "warnings.filterwarnings(\"ignore\")\n",
        "\n",
        "# Bio.SeqUtils Package\n",
        "# Used to calculate protein information from amino acid sequence\n",
        "from Bio.SeqUtils.ProtParam import ProteinAnalysis"
      ]
    },
    {
      "cell_type": "code",
      "execution_count": null,
      "metadata": {
        "collapsed": true,
        "id": "KI1h9yBOO-ab",
        "colab": {
          "base_uri": "https://localhost:8080/"
        },
        "outputId": "ac3e35da-1e9d-417f-b6e8-f46af2c9399a"
      },
      "outputs": [
        {
          "output_type": "stream",
          "name": "stdout",
          "text": [
            "Mounted at /content/drive\n"
          ]
        }
      ],
      "source": [
        "# %% ============================================================================\n",
        "#Import & Preprocess Data\n",
        "# ============================================================================\n",
        "from google.colab import files\n",
        "import pandas as pd\n",
        "import io\n",
        "\n",
        "# Load Data\n",
        "uploaded = files.upload() # proteinIDs.csv\n",
        "file_name = list(uploaded.keys())[0]\n",
        "proteins = pd.read_csv(io.BytesIO(uploaded[file_name]))"
      ]
    },
    {
      "cell_type": "code",
      "execution_count": null,
      "metadata": {
        "collapsed": true,
        "id": "o7iYBV9QUiYM",
        "colab": {
          "base_uri": "https://localhost:8080/",
          "height": 547
        },
        "outputId": "4172b903-68c1-4743-bd22-26ab791e4926"
      },
      "outputs": [
        {
          "output_type": "error",
          "ename": "KeyError",
          "evalue": "'ID'",
          "traceback": [
            "\u001b[0;31m---------------------------------------------------------------------------\u001b[0m",
            "\u001b[0;31mKeyError\u001b[0m                                  Traceback (most recent call last)",
            "\u001b[0;32m/usr/local/lib/python3.11/dist-packages/pandas/core/indexes/base.py\u001b[0m in \u001b[0;36mget_loc\u001b[0;34m(self, key)\u001b[0m\n\u001b[1;32m   3804\u001b[0m             \u001b[0;32mraise\u001b[0m\u001b[0;34m\u001b[0m\u001b[0;34m\u001b[0m\u001b[0m\n\u001b[0;32m-> 3805\u001b[0;31m \u001b[0;34m\u001b[0m\u001b[0m\n\u001b[0m\u001b[1;32m   3806\u001b[0m     _index_shared_docs[\n",
            "\u001b[0;32mindex.pyx\u001b[0m in \u001b[0;36mpandas._libs.index.IndexEngine.get_loc\u001b[0;34m()\u001b[0m\n",
            "\u001b[0;32mindex.pyx\u001b[0m in \u001b[0;36mpandas._libs.index.IndexEngine.get_loc\u001b[0;34m()\u001b[0m\n",
            "\u001b[0;32mpandas/_libs/hashtable_class_helper.pxi\u001b[0m in \u001b[0;36mpandas._libs.hashtable.PyObjectHashTable.get_item\u001b[0;34m()\u001b[0m\n",
            "\u001b[0;32mpandas/_libs/hashtable_class_helper.pxi\u001b[0m in \u001b[0;36mpandas._libs.hashtable.PyObjectHashTable.get_item\u001b[0;34m()\u001b[0m\n",
            "\u001b[0;31mKeyError\u001b[0m: 'ID'",
            "\nThe above exception was the direct cause of the following exception:\n",
            "\u001b[0;31mKeyError\u001b[0m                                  Traceback (most recent call last)",
            "\u001b[0;32m<ipython-input-50-f63f8c6ad5cf>\u001b[0m in \u001b[0;36m<cell line: 0>\u001b[0;34m()\u001b[0m\n\u001b[1;32m      2\u001b[0m \u001b[0mhuman\u001b[0m\u001b[0;34m=\u001b[0m\u001b[0mpd\u001b[0m\u001b[0;34m.\u001b[0m\u001b[0mread_csv\u001b[0m\u001b[0;34m(\u001b[0m\u001b[0;34m'/content/drive/Shareddrives/ChouLab_Research/Alexa/Research/1_Protein Corona Meta Analysis/2_Code/Code for Protein Analysis/mouse_proteins_num_order.csv'\u001b[0m\u001b[0;34m)\u001b[0m\u001b[0;34m\u001b[0m\u001b[0;34m\u001b[0m\u001b[0m\n\u001b[1;32m      3\u001b[0m \u001b[0mhuman\u001b[0m\u001b[0;34m.\u001b[0m\u001b[0mrename\u001b[0m\u001b[0;34m(\u001b[0m\u001b[0mcolumns\u001b[0m\u001b[0;34m=\u001b[0m\u001b[0;34m{\u001b[0m\u001b[0;34m'Accession'\u001b[0m\u001b[0;34m:\u001b[0m \u001b[0;34m'ID'\u001b[0m\u001b[0;34m}\u001b[0m\u001b[0;34m,\u001b[0m \u001b[0minplace\u001b[0m\u001b[0;34m=\u001b[0m\u001b[0;32mTrue\u001b[0m\u001b[0;34m)\u001b[0m\u001b[0;34m\u001b[0m\u001b[0;34m\u001b[0m\u001b[0m\n\u001b[0;32m----> 4\u001b[0;31m \u001b[0mhumanids\u001b[0m \u001b[0;34m=\u001b[0m \u001b[0mhuman\u001b[0m\u001b[0;34m[\u001b[0m\u001b[0;34m'ID'\u001b[0m\u001b[0;34m]\u001b[0m\u001b[0;34m.\u001b[0m\u001b[0mto_list\u001b[0m\u001b[0;34m(\u001b[0m\u001b[0;34m)\u001b[0m \u001b[0;31m#requires list format\u001b[0m\u001b[0;34m\u001b[0m\u001b[0;34m\u001b[0m\u001b[0m\n\u001b[0m\u001b[1;32m      5\u001b[0m \u001b[0mprint\u001b[0m\u001b[0;34m(\u001b[0m\u001b[0mhumanids\u001b[0m\u001b[0;34m)\u001b[0m\u001b[0;34m\u001b[0m\u001b[0;34m\u001b[0m\u001b[0m\n",
            "\u001b[0;32m/usr/local/lib/python3.11/dist-packages/pandas/core/frame.py\u001b[0m in \u001b[0;36m__getitem__\u001b[0;34m(self, key)\u001b[0m\n\u001b[1;32m   4100\u001b[0m     \u001b[0;32mdef\u001b[0m \u001b[0m_setitem_array\u001b[0m\u001b[0;34m(\u001b[0m\u001b[0mself\u001b[0m\u001b[0;34m,\u001b[0m \u001b[0mkey\u001b[0m\u001b[0;34m,\u001b[0m \u001b[0mvalue\u001b[0m\u001b[0;34m)\u001b[0m\u001b[0;34m:\u001b[0m\u001b[0;34m\u001b[0m\u001b[0;34m\u001b[0m\u001b[0m\n\u001b[1;32m   4101\u001b[0m         \u001b[0;31m# also raises Exception if object array with NA values\u001b[0m\u001b[0;34m\u001b[0m\u001b[0;34m\u001b[0m\u001b[0m\n\u001b[0;32m-> 4102\u001b[0;31m         \u001b[0;32mif\u001b[0m \u001b[0mcom\u001b[0m\u001b[0;34m.\u001b[0m\u001b[0mis_bool_indexer\u001b[0m\u001b[0;34m(\u001b[0m\u001b[0mkey\u001b[0m\u001b[0;34m)\u001b[0m\u001b[0;34m:\u001b[0m\u001b[0;34m\u001b[0m\u001b[0;34m\u001b[0m\u001b[0m\n\u001b[0m\u001b[1;32m   4103\u001b[0m             \u001b[0;31m# bool indexer is indexing along rows\u001b[0m\u001b[0;34m\u001b[0m\u001b[0;34m\u001b[0m\u001b[0m\n\u001b[1;32m   4104\u001b[0m             \u001b[0;32mif\u001b[0m \u001b[0mlen\u001b[0m\u001b[0;34m(\u001b[0m\u001b[0mkey\u001b[0m\u001b[0;34m)\u001b[0m \u001b[0;34m!=\u001b[0m \u001b[0mlen\u001b[0m\u001b[0;34m(\u001b[0m\u001b[0mself\u001b[0m\u001b[0;34m.\u001b[0m\u001b[0mindex\u001b[0m\u001b[0;34m)\u001b[0m\u001b[0;34m:\u001b[0m\u001b[0;34m\u001b[0m\u001b[0;34m\u001b[0m\u001b[0m\n",
            "\u001b[0;32m/usr/local/lib/python3.11/dist-packages/pandas/core/indexes/base.py\u001b[0m in \u001b[0;36mget_loc\u001b[0;34m(self, key)\u001b[0m\n\u001b[1;32m   3810\u001b[0m \u001b[0;34m\u001b[0m\u001b[0m\n\u001b[1;32m   3811\u001b[0m         \u001b[0mThe\u001b[0m \u001b[0mindexer\u001b[0m \u001b[0mshould\u001b[0m \u001b[0mbe\u001b[0m \u001b[0mthen\u001b[0m \u001b[0mused\u001b[0m \u001b[0;32mas\u001b[0m \u001b[0man\u001b[0m \u001b[0minput\u001b[0m \u001b[0mto\u001b[0m \u001b[0mndarray\u001b[0m\u001b[0;34m.\u001b[0m\u001b[0mtake\u001b[0m \u001b[0mto\u001b[0m \u001b[0malign\u001b[0m \u001b[0mthe\u001b[0m\u001b[0;34m\u001b[0m\u001b[0;34m\u001b[0m\u001b[0m\n\u001b[0;32m-> 3812\u001b[0;31m         \u001b[0mcurrent\u001b[0m \u001b[0mdata\u001b[0m \u001b[0mto\u001b[0m \u001b[0mthe\u001b[0m \u001b[0mnew\u001b[0m \u001b[0mindex\u001b[0m\u001b[0;34m.\u001b[0m\u001b[0;34m\u001b[0m\u001b[0;34m\u001b[0m\u001b[0m\n\u001b[0m\u001b[1;32m   3813\u001b[0m \u001b[0;34m\u001b[0m\u001b[0m\n\u001b[1;32m   3814\u001b[0m         \u001b[0mParameters\u001b[0m\u001b[0;34m\u001b[0m\u001b[0;34m\u001b[0m\u001b[0m\n",
            "\u001b[0;31mKeyError\u001b[0m: 'ID'"
          ]
        }
      ],
      "source": [
        "proteinids = proteins['ID'].to_list() #requires list format\n",
        "print(proteisnids)"
      ]
    },
    {
      "cell_type": "markdown",
      "metadata": {
        "id": "50N9GC-ajeOu"
      },
      "source": [
        "#1. Extracting MW and Sequence Data from Uniprot\n",
        "\n",
        "\n",
        "---\n",
        "\n",
        "\n",
        "  Calculation of pI and GRAVY from peptide sequence using Bio.SeqUtils.ProtParam"
      ]
    },
    {
      "cell_type": "code",
      "execution_count": null,
      "metadata": {
        "id": "C4VTV8uFYuZu"
      },
      "outputs": [],
      "source": [
        "# %% ============================================================================\n",
        "# Define Data Retrieval Functions\n",
        "# ============================================================================\n",
        "#Function to query MW and AA sequence for proteins in list\n",
        "def get_mw_and_seq_from_uniprot_id(ID):\n",
        "    ID = ID.strip()\n",
        "    url = f\"http://www.uniprot.org/uniprot/{ID}.txt\"\n",
        "    try:\n",
        "        response = urlopen(url)\n",
        "        data = response.read().decode()\n",
        "\n",
        "        # Optional: Print the raw data for inspection\n",
        "        # print(f\"Raw data for {ID}:\\n{data}\\n{'-'*40}\")\n",
        "\n",
        "        # Ensure the response contains the sequence information\n",
        "        if 'SQ ' in data:\n",
        "            result = data.split('SQ ')[-1]\n",
        "\n",
        "            # Use regex to find molecular weight (MW)\n",
        "            mw_match = re.search(r\"(\\d+)\\s*MW\", result)\n",
        "            if mw_match:\n",
        "                mw = int(mw_match.group(1))\n",
        "            else:\n",
        "                print(f\"Molecular weight not found for {ID}\")\n",
        "                mw = None\n",
        "\n",
        "            #use regex to find amino acid length (AA)\n",
        "            AA_match = re.search(r\"(\\d+)\\s*AA\", result)\n",
        "            if AA_match:\n",
        "                AA = int(AA_match.group(1))\n",
        "            else:\n",
        "                print(f\"Amino acid length not found for {ID}\")\n",
        "\n",
        "            # Extract sequence\n",
        "            sequence_lines = result.split('\\n')[1:]\n",
        "            sequence = ''.join([line.strip().replace(' ', '') for line in sequence_lines if line and not line.startswith('//')])\n",
        "\n",
        "            print(f\"Extracted sequence for ID {ID}: {sequence}\")\n",
        "            return mw, sequence, AA\n",
        "        else:\n",
        "            print(f\"Sequence data not found for UniProt ID {ID}\")\n",
        "            return None, None, None\n",
        "\n",
        "    except Exception as e:\n",
        "        print(f\"Error fetching data for UniProt ID {ID}: {e}\")\n",
        "        return None, None, None\n",
        "\n",
        "#Function to clean formatting of extracted AA sequences\n",
        "def clean_sequence(sequence):\n",
        "  clean_sequence = ''.join(sequence.split()).upper()\n",
        "  valid_amino_acids = set( \"ARNDCEQGHILKMFPSTWYV\")\n",
        "\n",
        "  #check for invalid characters\n",
        "  if not all(char in valid_amino_acids for char in clean_sequence):\n",
        "      raise ValueError(\"Sequence contains invalid characters.\")\n",
        "\n",
        "  return clean_sequence"
      ]
    },
    {
      "cell_type": "code",
      "execution_count": null,
      "metadata": {
        "id": "HIpt_wxJfCbV"
      },
      "outputs": [],
      "source": [
        "# %% ============================================================================\n",
        "# Define Functions for pI and GRAVY calculation\n",
        "# ============================================================================\n",
        "\n",
        "#define function for calculating\n",
        "def calculate_isoelectric_point (sequence):\n",
        "  try:\n",
        "    sequence = clean_sequence(sequence)\n",
        "    analysis = ProteinAnalysis(sequence)\n",
        "    pI = analysis.isoelectric_point()\n",
        "    return pI\n",
        "  except Exception as e:\n",
        "    print(f\"Error calculating pI for sequence: {e}\")\n",
        "    return None\n",
        "\n",
        "def calculate_gravy(sequence):\n",
        "    try:\n",
        "        sequence = clean_sequence(sequence)\n",
        "        analysis = ProteinAnalysis(sequence)\n",
        "        gravy = analysis.gravy() # calculate the GRAVY according to Kyte and Doolitle, 1982\n",
        "        return gravy\n",
        "    except Exception as e:\n",
        "        print(f\"Error calculating GRAVY for sequence: {e}\")\n",
        "        return None\n",
        "\n"
      ]
    },
    {
      "cell_type": "code",
      "execution_count": null,
      "metadata": {
        "id": "F1xNCO8flhEB"
      },
      "outputs": [],
      "source": [
        "#create dataframe for calculated properties\n",
        "ProteinInfo = pd.DataFrame(proteinids)\n",
        "ProteinInfo.rename(columns={ProteinInfo.columns[0]: 'ID'}, inplace=True)\n",
        "ProteinInfo['MW'] = None\n",
        "ProteinInfo['AA'] = None\n",
        "ProteinInfo['pI'] = None\n",
        "ProteinInfo['gravy'] = None"
      ]
    },
    {
      "cell_type": "code",
      "execution_count": null,
      "metadata": {
        "colab": {
          "base_uri": "https://localhost:8080/",
          "height": 211
        },
        "collapsed": true,
        "id": "GlXhdWWxMjDK",
        "outputId": "4f123404-1320-4fbb-f470-c5c26dabacb8"
      },
      "outputs": [
        {
          "output_type": "error",
          "ename": "NameError",
          "evalue": "name 'ProteinInfo' is not defined",
          "traceback": [
            "\u001b[0;31m---------------------------------------------------------------------------\u001b[0m",
            "\u001b[0;31mNameError\u001b[0m                                 Traceback (most recent call last)",
            "\u001b[0;32m<ipython-input-29-267f591c1ba3>\u001b[0m in \u001b[0;36m<cell line: 0>\u001b[0;34m()\u001b[0m\n\u001b[0;32m----> 1\u001b[0;31m \u001b[0;32mfor\u001b[0m \u001b[0mindex\u001b[0m\u001b[0;34m,\u001b[0m \u001b[0mrow\u001b[0m \u001b[0;32min\u001b[0m \u001b[0mProteinInfo\u001b[0m\u001b[0;34m.\u001b[0m\u001b[0miterrows\u001b[0m\u001b[0;34m(\u001b[0m\u001b[0;34m)\u001b[0m\u001b[0;34m:\u001b[0m\u001b[0;34m\u001b[0m\u001b[0;34m\u001b[0m\u001b[0m\n\u001b[0m\u001b[1;32m      2\u001b[0m     \u001b[0mmw\u001b[0m\u001b[0;34m,\u001b[0m \u001b[0mseq\u001b[0m\u001b[0;34m,\u001b[0m \u001b[0mAA\u001b[0m \u001b[0;34m=\u001b[0m \u001b[0mget_mw_and_seq_from_uniprot_id\u001b[0m\u001b[0;34m(\u001b[0m\u001b[0mrow\u001b[0m\u001b[0;34m[\u001b[0m\u001b[0;34m'ID'\u001b[0m\u001b[0;34m]\u001b[0m\u001b[0;34m)\u001b[0m\u001b[0;34m\u001b[0m\u001b[0;34m\u001b[0m\u001b[0m\n\u001b[1;32m      3\u001b[0m     \u001b[0;32mif\u001b[0m \u001b[0mmw\u001b[0m \u001b[0;32mand\u001b[0m \u001b[0mseq\u001b[0m\u001b[0;34m:\u001b[0m\u001b[0;34m\u001b[0m\u001b[0;34m\u001b[0m\u001b[0m\n\u001b[1;32m      4\u001b[0m        \u001b[0mProteinInfo\u001b[0m\u001b[0;34m.\u001b[0m\u001b[0mat\u001b[0m\u001b[0;34m[\u001b[0m\u001b[0mindex\u001b[0m\u001b[0;34m,\u001b[0m \u001b[0;34m'MW'\u001b[0m\u001b[0;34m]\u001b[0m \u001b[0;34m=\u001b[0m \u001b[0mmw\u001b[0m\u001b[0;34m\u001b[0m\u001b[0;34m\u001b[0m\u001b[0m\n\u001b[1;32m      5\u001b[0m        \u001b[0mProteinInfo\u001b[0m\u001b[0;34m.\u001b[0m\u001b[0mat\u001b[0m\u001b[0;34m[\u001b[0m\u001b[0mindex\u001b[0m\u001b[0;34m,\u001b[0m\u001b[0;34m'AA'\u001b[0m\u001b[0;34m]\u001b[0m \u001b[0;34m=\u001b[0m \u001b[0mAA\u001b[0m\u001b[0;34m\u001b[0m\u001b[0;34m\u001b[0m\u001b[0m\n",
            "\u001b[0;31mNameError\u001b[0m: name 'ProteinInfo' is not defined"
          ]
        }
      ],
      "source": [
        "# %% ============================================================================\n",
        "# Extract and Calculate Protein Data\n",
        "# ============================================================================\n",
        "\n",
        "# Loop through protein ID list to extract relevant data; if data is available, calculate specified properties\n",
        "for index, row in ProteinInfo.iterrows():\n",
        "    mw, seq, AA = get_mw_and_seq_from_uniprot_id(row['ID'])\n",
        "    if mw and seq:\n",
        "       ProteinInfo.at[index, 'MW'] = mw\n",
        "       ProteinInfo.at[index,'AA'] = AA\n",
        "       ProteinInfo.at[index, 'pI'] = calculate_isoelectric_point(seq)\n",
        "       ProteinInfo.at[index, 'gravy'] = calculate_gravy(seq)\n",
        "\n",
        "# Check dataframe\n",
        "print(ProteinInfo.head(30))\n"
      ]
    },
    {
      "cell_type": "code",
      "execution_count": null,
      "metadata": {
        "id": "yzKrG7SnVfXw",
        "colab": {
          "base_uri": "https://localhost:8080/"
        },
        "outputId": "26840f0a-c872-40f5-f6ed-cae3e288665b"
      },
      "outputs": [
        {
          "output_type": "stream",
          "name": "stdout",
          "text": [
            "         ID      MW    AA        pI     gravy\n",
            "0    A1A4J1   85292   780  7.012363 -0.088205\n",
            "1    A1L595   48712   441  5.082907 -0.582766\n",
            "2    A2I7M9   46237   411  5.666075 -0.122871\n",
            "3    A2I7N0   46311   411  5.922759 -0.194647\n",
            "4    A2I7N3   46942   417   5.89775 -0.127338\n",
            "5    A2VDY3   24948   222  4.614042 -0.818919\n",
            "6    A2VE23   50549   510  6.641204 -0.752157\n",
            "7    A3KMV5  117830  1058  5.495842 -0.263705\n",
            "8    A3KN27   59952   550  8.151012 -0.402182\n",
            "9    A4FUA8   32932   286  5.532787 -0.666783\n",
            "10   A4FUZ0   53989   493  5.430989 -0.309128\n",
            "11   A4FV54   23684   207  9.137056 -0.400483\n",
            "12  A4FV61     None  None      None      None\n",
            "13   A4FV68   54699   467  6.509508 -0.300642\n",
            "14   A4IF97   19692   171  4.723627 -0.778363\n",
            "15  A5D785     None  None      None      None\n",
            "16   A5D7B7   87734   760  7.535907 -0.324605\n",
            "17   A5D7D1  104928   911  5.267065 -0.642151\n",
            "18  A5D989    31142   280   4.94456     -0.65\n",
            "19   A5PJM7   51847   447  6.502744 -0.477405\n",
            "20   A5PK45   71547   623  7.043511 -0.382183\n",
            "21   A5PKH3    None  None      None      None\n",
            "22   A6H767   45376   391  4.359971 -0.958312\n",
            "23   A6H768   42227   392  5.770033 -0.087755\n",
            "24  A6H7G2    47723   423  4.963999 -0.881087\n",
            "25   A6H7I5   97836   866  7.289453 -0.462471\n",
            "26  A6QLR4    46995   428  5.239953 -0.148364\n",
            "27   A6QNX5   57464   528  8.480187 -0.377841\n",
            "28   A6QPQ2   46964   418  5.762928 -0.164354\n",
            "29   A6QQF6   56854   557  6.736353 -0.652962\n"
          ]
        }
      ],
      "source": [
        "print(ProteinInfo.head(30))"
      ]
    }
  ],
  "metadata": {
    "colab": {
      "provenance": []
    },
    "kernelspec": {
      "display_name": "Python 3",
      "name": "python3"
    },
    "language_info": {
      "name": "python"
    }
  },
  "nbformat": 4,
  "nbformat_minor": 0
}